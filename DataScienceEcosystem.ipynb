{
 "cells": [
  {
   "cell_type": "markdown",
   "id": "9efda590-7004-43d1-98cb-00da2a8fb915",
   "metadata": {},
   "source": [
    "# Data Science Tools and Ecosystem"
   ]
  },
  {
   "cell_type": "markdown",
   "id": "dff17e41-f2dd-45bc-848e-1fb817992101",
   "metadata": {},
   "source": [
    "In this notebook, Data Science Tools and Ecosystem are summarized."
   ]
  },
  {
   "cell_type": "markdown",
   "id": "fdd2ec4a-590f-48f8-bf30-5a9fc6fd9e63",
   "metadata": {},
   "source": [
    "**Objectives:**\n",
    "- List popular languajes for Data Science.\n",
    "- List commonly used libraries for Data Science.\n",
    "- Practice some basic arithmetic expressions.\n"
   ]
  },
  {
   "cell_type": "markdown",
   "id": "0ac460a1-afe5-40d1-a25d-7eba573a1748",
   "metadata": {},
   "source": [
    "Some of the popular languages that Data Scientis use are summartized.\n",
    "1. Python\n",
    "2. R\n",
    "3. SQL\n",
    "4. Java\n",
    "5. Julia\n",
    "6. Scala"
   ]
  },
  {
   "cell_type": "markdown",
   "id": "00b98fd2-f875-46f6-abbf-bfaf5258a806",
   "metadata": {},
   "source": [
    "Some of the commonly used libraries used by Data Scientist include:\n",
    "- Tensor Flow\n",
    "- Pandas\n",
    "- Numpy\n",
    "- MatPlotlib\n",
    "- PyTorch\n"
   ]
  },
  {
   "cell_type": "markdown",
   "id": "e5fb246f-ad84-4423-85d8-4e24fd3f60e6",
   "metadata": {},
   "source": [
    "|Data Science Tools|\n",
    "|------------------|\n",
    "|JupyterLab|\n",
    "|Spyder    |\n",
    "|Visual Studio|"
   ]
  },
  {
   "cell_type": "markdown",
   "id": "2372cea3-9cc1-4701-a441-d9b6c3540f80",
   "metadata": {},
   "source": [
    "### Below are a few examples of evaluation arithmetic expressions in Python."
   ]
  },
  {
   "cell_type": "code",
   "execution_count": 19,
   "id": "b220f16a-92c3-42cb-9f29-25b6749066be",
   "metadata": {
    "tags": []
   },
   "outputs": [
    {
     "data": {
      "text/plain": [
       "3.3333333333333335"
      ]
     },
     "execution_count": 19,
     "metadata": {},
     "output_type": "execute_result"
    }
   ],
   "source": [
    "#This will convert 200 minutes to hours by diving by 60\n",
    "200 / 60"
   ]
  },
  {
   "cell_type": "code",
   "execution_count": 8,
   "id": "a3bf671b-e610-453f-8c3c-646b34b33801",
   "metadata": {
    "tags": []
   },
   "outputs": [
    {
     "data": {
      "text/plain": [
       "17"
      ]
     },
     "execution_count": 8,
     "metadata": {},
     "output_type": "execute_result"
    }
   ],
   "source": [
    " #This is a simple arithmetic expression to multiply then add integers \n",
    "(3*4)+5"
   ]
  },
  {
   "cell_type": "markdown",
   "id": "79684471-28aa-4908-9aef-f4464331c91d",
   "metadata": {},
   "source": [
    "## Author \n",
    "Luis Figueroa"
   ]
  },
  {
   "cell_type": "code",
   "execution_count": null,
   "id": "eac7925d-f746-4f71-a226-9b2b3beba2d4",
   "metadata": {},
   "outputs": [],
   "source": []
  }
 ],
 "metadata": {
  "kernelspec": {
   "display_name": "Python 3 (ipykernel)",
   "language": "python",
   "name": "python3"
  },
  "language_info": {
   "codemirror_mode": {
    "name": "ipython",
    "version": 3
   },
   "file_extension": ".py",
   "mimetype": "text/x-python",
   "name": "python",
   "nbconvert_exporter": "python",
   "pygments_lexer": "ipython3",
   "version": "3.11.4"
  }
 },
 "nbformat": 4,
 "nbformat_minor": 5
}
